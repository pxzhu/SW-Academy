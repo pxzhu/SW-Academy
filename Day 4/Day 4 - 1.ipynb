{
 "cells": [
  {
   "cell_type": "code",
   "execution_count": null,
   "metadata": {},
   "outputs": [],
   "source": [
    "# Tensor의 3요소 - rank(차원), shape(행과 열의 길이), type(데이터 형식)\n",
    "\n",
    "# 3가지 방법의 tensorflow 표현 - (convert_to_tensor, placehloder, [constant, variable])\n",
    "\n",
    "# constant, variable = reference code"
   ]
  }
 ],
 "metadata": {
  "kernelspec": {
   "display_name": "Python 3",
   "language": "python",
   "name": "python3"
  },
  "language_info": {
   "codemirror_mode": {
    "name": "ipython",
    "version": 3
   },
   "file_extension": ".py",
   "mimetype": "text/x-python",
   "name": "python",
   "nbconvert_exporter": "python",
   "pygments_lexer": "ipython3",
   "version": "3.6.9"
  }
 },
 "nbformat": 4,
 "nbformat_minor": 4
}
